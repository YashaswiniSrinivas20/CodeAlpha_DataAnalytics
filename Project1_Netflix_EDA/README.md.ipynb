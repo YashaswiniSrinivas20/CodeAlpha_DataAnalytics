{
 "cells": [
  {
   "cell_type": "code",
   "execution_count": null,
   "id": "da829a0c",
   "metadata": {},
   "outputs": [],
   "source": [
    "# 📊 Netflix EDA & Visualization\n",
    "\n",
    "## 📌 Project Overview\n",
    "This project is part of my **CodeAlpha Data Analytics Internship**.  \n",
    "I performed **Exploratory Data Analysis (EDA)** and **Data Visualization** on the Netflix Movies & TV Shows dataset to uncover insights about the type of content available on Netflix.\n",
    "\n",
    "---\n",
    "\n",
    "## 📂 Dataset\n",
    "- **Source:** Netflix Movies and TV Shows dataset (originally from Kaggle)  \n",
    "- **File Used:** `netflix_titles.csv` (sample for demonstration)  \n",
    "- **Columns:** show_id, type, title, director, cast, country, date_added, release_year, rating, duration, listed_in, description  \n",
    "\n",
    "---\n",
    "\n",
    "## 🔍 Key Insights\n",
    "1. Netflix has **more movies than TV shows** in its catalog.  \n",
    "2. **United States, India, and Germany** contribute the most content.  \n",
    "3. The number of titles added to Netflix **increased significantly after 2015**.  \n",
    "4. **Dramas, Crime, and Thriller** are the most common genres.  \n",
    "\n",
    "---\n",
    "\n",
    "## 📊 Visualizations\n",
    "The following charts were created using **Matplotlib** and **Seaborn**:\n",
    "\n",
    "- ✅ Distribution of Movies vs TV Shows (Pie Chart)  \n",
    "- ✅ Top 10 Countries with Most Content (Bar Chart)  \n",
    "- ✅ Content Growth Over Time (Line Chart)  \n",
    "- ✅ Top 10 Genres on Netflix (Bar Chart)  \n",
    "\n",
    "📷 *[Add screenshots of your graphs here after running the notebook]*\n",
    "\n",
    "---\n",
    "\n",
    "## 🛠 Tools & Libraries\n",
    "- Python 🐍  \n",
    "- Pandas  \n",
    "- Matplotlib  \n",
    "- Seaborn  \n",
    "\n",
    "---\n",
    "\n",
    "## 📌 Conclusion\n",
    "- Netflix is primarily a **movie-focused platform** but TV shows have grown in recent years.  \n",
    "- The US and India are major contributors of Netflix titles.  \n",
    "- Popular genres like **Dramas and Thrillers** dominate the content library.  \n",
    "\n",
    "---\n",
    "\n",
    "## 🚀 How to Run This Project\n",
    "1. Clone this repository  \n",
    "   ```bash\n",
    "   git clone https://github.com/YourUsername/CodeAlpha_DataAnalytics.git\n"
   ]
  },
  {
   "cell_type": "code",
   "execution_count": 1,
   "id": "90aa861e",
   "metadata": {},
   "outputs": [
    {
     "name": "stdout",
     "output_type": "stream",
     "text": [
      "[WinError 2] The system cannot find the file specified: 'Project1_Netflix_EDA'\n",
      "C:\\Users\\yasha\n"
     ]
    }
   ],
   "source": [
    "cd Project1_Netflix_EDA"
   ]
  },
  {
   "cell_type": "code",
   "execution_count": null,
   "id": "e0e6b2a9",
   "metadata": {},
   "outputs": [],
   "source": []
  }
 ],
 "metadata": {
  "kernelspec": {
   "display_name": "Python 3 (ipykernel)",
   "language": "python",
   "name": "python3"
  },
  "language_info": {
   "codemirror_mode": {
    "name": "ipython",
    "version": 3
   },
   "file_extension": ".py",
   "mimetype": "text/x-python",
   "name": "python",
   "nbconvert_exporter": "python",
   "pygments_lexer": "ipython3",
   "version": "3.10.9"
  }
 },
 "nbformat": 4,
 "nbformat_minor": 5
}
